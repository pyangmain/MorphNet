{
 "cells": [
  {
   "cell_type": "code",
   "execution_count": 22,
   "id": "3e602d1d-9430-4830-9549-561d6e61112d",
   "metadata": {},
   "outputs": [],
   "source": [
    "import pandas as pd\n",
    "import numpy as np\n",
    "import matplotlib.pyplot as plt\n",
    "from scipy.signal import medfilt\n",
    "import os\n",
    "import pywt"
   ]
  },
  {
   "cell_type": "code",
   "execution_count": 23,
   "id": "acca5a2c-3973-4712-ba2d-ad4b6ac6d26a",
   "metadata": {},
   "outputs": [],
   "source": [
    "data_files = [\"a01\", \"a02\", \"a03\", \"a04\", \"b01\", \"c01\", \"c02\", \"c03\"]\n",
    "#data_files = [\"a04\"]\n",
    "for file in data_files:\n",
    "    ap = pd.read_csv(f\"processed_data/{file}.csv\")\n",
    "    apnea = ap[\"apnea\"]\n",
    "    ap = ap.drop(\"apnea\", axis=1)\n",
    "    reshaped_data = ap.values.reshape(-1, 600, 10)\n",
    "\n",
    "    # Compute the median along the last axis (across each block of 10 columns)\n",
    "    medians = np.median(reshaped_data, axis=2)\n",
    "    \n",
    "    # Create a new DataFrame from the medians\n",
    "    resampled_data = pd.DataFrame(medians)\n",
    "    resampled_data[\"apnea\"] = apnea\n",
    "    data = resampled_data\n",
    "    data = data[data.iloc[:, :-1].ge(50).all(axis=1)]\n",
    "    data.to_csv(f\"apnea_ecg_600/{file}.csv\")"
   ]
  },
  {
   "cell_type": "code",
   "execution_count": 39,
   "id": "31d66b09-159b-45d7-bd78-7a94abed5ccb",
   "metadata": {},
   "outputs": [],
   "source": [
    "files = [file for file in os.listdir(\"apnea_ecg_600\")][:-1]\n",
    "dfs = []\n",
    "\n",
    "for file in files:\n",
    "    dfs.append(pd.read_csv(f\"apnea_ecg_600/{file}\")) \n",
    "\n",
    "combined_df = pd.concat(dfs, ignore_index = True)\n",
    "combined_df = combined_df.drop(\"Unnamed: 0\", axis=1)\n",
    "combined_df.to_csv(f\"apnea_ecg_600/combined_apnea.csv\", index= False)"
   ]
  },
  {
   "cell_type": "code",
   "execution_count": null,
   "id": "b2cfbfe0-b726-4c99-8398-96869afce182",
   "metadata": {},
   "outputs": [],
   "source": []
  }
 ],
 "metadata": {
  "kernelspec": {
   "display_name": "Python 3 (ipykernel)",
   "language": "python",
   "name": "python3"
  },
  "language_info": {
   "codemirror_mode": {
    "name": "ipython",
    "version": 3
   },
   "file_extension": ".py",
   "mimetype": "text/x-python",
   "name": "python",
   "nbconvert_exporter": "python",
   "pygments_lexer": "ipython3",
   "version": "3.10.12"
  }
 },
 "nbformat": 4,
 "nbformat_minor": 5
}
